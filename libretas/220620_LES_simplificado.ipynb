{
 "cells": [
  {
   "cell_type": "code",
   "execution_count": 1,
   "id": "afdf4e7c",
   "metadata": {},
   "outputs": [],
   "source": [
    "import pandas as pd\n",
    "import numpy as np\n",
    "import matplotlib.pyplot as plt"
   ]
  },
  {
   "cell_type": "markdown",
   "id": "6915987d",
   "metadata": {},
   "source": [
    "LES EXPERIMENTAL"
   ]
  },
  {
   "cell_type": "code",
   "execution_count": 2,
   "id": "30e45418",
   "metadata": {},
   "outputs": [],
   "source": [
    "nombres=np.loadtxt('../Datos/Datos_Prueba_2018-02-19_16-45 (1).txt',dtype='U',max_rows=1,skiprows=2,delimiter='\\t')\n",
    "nombres[0]='fecha'\n",
    "nombres[1]='hora'\n",
    "nombres[3]='Ti'\n",
    "nombres[6]='Tobj'\n",
    "nombres[7]='To'\n",
    "nombres[5]='Tg'\n",
    "nombres[8]='Tsi_SC'\n",
    "nombres[9]='Tso_SC'\n",
    "LES=pd.read_csv('../Datos/Datos_Prueba_2018-02-19_16-45 (1).txt',names=nombres,sep='\\t',skiprows=3)\n",
    "LES.hora = LES.hora.str.replace('p. m.','PM',regex=True)\n",
    "LES.hora = LES.hora.str.replace('a. m.','AM',regex=True)\n",
    "LES['time']=LES.fecha+ ' ' +LES.hora\n",
    "LES.time= pd.to_datetime(LES.time,dayfirst=True)\n",
    "LES.set_index('time',inplace=True)\n",
    "del LES['fecha']\n",
    "del LES['hora']\n",
    "upsampled     = LES.resample('1Min').pad()\n",
    "LES= upsampled.interpolate(method='time')\n",
    "LES=LES.drop(LES.index[0])"
   ]
  },
  {
   "cell_type": "markdown",
   "id": "9033c1a2",
   "metadata": {},
   "source": [
    "IDF"
   ]
  },
  {
   "cell_type": "code",
   "execution_count": 3,
   "id": "d2fe652f",
   "metadata": {},
   "outputs": [],
   "source": [
    "nombres= np.loadtxt('../Datos/eh_simplificado_LES.csv',dtype='U',max_rows=1,delimiter=',')\n",
    "nombres[0]='tiempo'\n",
    "nombres[1]='Ta'\n",
    "nombres[2]='Ti'\n",
    "\n",
    "archivo = '../Datos/LES_enerhabitat.txt'\n",
    "def importa(archivo,nombres):\n",
    "    IDF= pd.read_csv(archivo,names=nombres,skiprows=1)\n",
    "    IDF.tiempo= IDF.tiempo.str.replace('24:00:00','23:59:59')\n",
    "    IDF.tiempo= '2019'+' '+ IDF.tiempo\n",
    "    IDF.tiempo= pd.to_datetime(IDF.tiempo,format='%Y %m/%d %H:%M:%S')\n",
    "    start_date = '2019 02/01'\n",
    "    end_date   = '2019 02/02'\n",
    "    IDF= IDF.loc[(IDF['tiempo'] > start_date) & (IDF['tiempo'] <= end_date)]\n",
    "    IDF.set_index(IDF.tiempo,inplace=True)\n",
    "    upsampled= IDF.resample('1Min').pad()\n",
    "    IDF= upsampled.interpolate(method='time')\n",
    "    IDF= upsampled.interpolate(method='time')\n",
    "    del IDF['tiempo']\n",
    "    return IDF\n",
    "IDF = importa('../Datos/eh_simplificado_LES.csv',nombres)"
   ]
  },
  {
   "cell_type": "markdown",
   "id": "663313cf",
   "metadata": {},
   "source": [
    "IDF con aire acondicionado"
   ]
  },
  {
   "cell_type": "code",
   "execution_count": 4,
   "id": "bb061aab",
   "metadata": {},
   "outputs": [],
   "source": [
    "IDF_AC = importa('../Datos/eh_simplificado_LES_AC.csv',nombres)"
   ]
  },
  {
   "cell_type": "markdown",
   "id": "1fd195be",
   "metadata": {},
   "source": [
    "IDF con temperaturas superficiales"
   ]
  },
  {
   "cell_type": "code",
   "execution_count": 5,
   "id": "ee039e76",
   "metadata": {},
   "outputs": [
    {
     "data": {
      "text/html": [
       "<div>\n",
       "<style scoped>\n",
       "    .dataframe tbody tr th:only-of-type {\n",
       "        vertical-align: middle;\n",
       "    }\n",
       "\n",
       "    .dataframe tbody tr th {\n",
       "        vertical-align: top;\n",
       "    }\n",
       "\n",
       "    .dataframe thead th {\n",
       "        text-align: right;\n",
       "    }\n",
       "</style>\n",
       "<table border=\"1\" class=\"dataframe\">\n",
       "  <thead>\n",
       "    <tr style=\"text-align: right;\">\n",
       "      <th></th>\n",
       "      <th>To</th>\n",
       "      <th>S2_inside</th>\n",
       "      <th>S2_outside</th>\n",
       "      <th>Ti</th>\n",
       "    </tr>\n",
       "    <tr>\n",
       "      <th>tiempo</th>\n",
       "      <th></th>\n",
       "      <th></th>\n",
       "      <th></th>\n",
       "      <th></th>\n",
       "    </tr>\n",
       "  </thead>\n",
       "  <tbody>\n",
       "    <tr>\n",
       "      <th>2019-02-01 00:01:00</th>\n",
       "      <td>20.4</td>\n",
       "      <td>22.252870</td>\n",
       "      <td>20.445535</td>\n",
       "      <td>22.331237</td>\n",
       "    </tr>\n",
       "    <tr>\n",
       "      <th>2019-02-01 00:02:00</th>\n",
       "      <td>20.1</td>\n",
       "      <td>22.247435</td>\n",
       "      <td>20.197921</td>\n",
       "      <td>22.318119</td>\n",
       "    </tr>\n",
       "    <tr>\n",
       "      <th>2019-02-01 00:03:00</th>\n",
       "      <td>20.1</td>\n",
       "      <td>22.237512</td>\n",
       "      <td>20.188427</td>\n",
       "      <td>22.304625</td>\n",
       "    </tr>\n",
       "    <tr>\n",
       "      <th>2019-02-01 00:04:00</th>\n",
       "      <td>20.1</td>\n",
       "      <td>22.226851</td>\n",
       "      <td>20.182203</td>\n",
       "      <td>22.292133</td>\n",
       "    </tr>\n",
       "    <tr>\n",
       "      <th>2019-02-01 00:05:00</th>\n",
       "      <td>20.1</td>\n",
       "      <td>22.216661</td>\n",
       "      <td>20.177797</td>\n",
       "      <td>22.280503</td>\n",
       "    </tr>\n",
       "    <tr>\n",
       "      <th>...</th>\n",
       "      <td>...</td>\n",
       "      <td>...</td>\n",
       "      <td>...</td>\n",
       "      <td>...</td>\n",
       "    </tr>\n",
       "    <tr>\n",
       "      <th>2019-02-01 23:55:00</th>\n",
       "      <td>20.4</td>\n",
       "      <td>24.380429</td>\n",
       "      <td>20.542269</td>\n",
       "      <td>24.466128</td>\n",
       "    </tr>\n",
       "    <tr>\n",
       "      <th>2019-02-01 23:56:00</th>\n",
       "      <td>20.4</td>\n",
       "      <td>24.364669</td>\n",
       "      <td>20.538861</td>\n",
       "      <td>24.450464</td>\n",
       "    </tr>\n",
       "    <tr>\n",
       "      <th>2019-02-01 23:57:00</th>\n",
       "      <td>20.4</td>\n",
       "      <td>24.348906</td>\n",
       "      <td>20.536009</td>\n",
       "      <td>24.434832</td>\n",
       "    </tr>\n",
       "    <tr>\n",
       "      <th>2019-02-01 23:58:00</th>\n",
       "      <td>20.4</td>\n",
       "      <td>24.333125</td>\n",
       "      <td>20.533554</td>\n",
       "      <td>24.419197</td>\n",
       "    </tr>\n",
       "    <tr>\n",
       "      <th>2019-02-01 23:59:00</th>\n",
       "      <td>20.4</td>\n",
       "      <td>24.317354</td>\n",
       "      <td>20.531395</td>\n",
       "      <td>24.403521</td>\n",
       "    </tr>\n",
       "  </tbody>\n",
       "</table>\n",
       "<p>1439 rows × 4 columns</p>\n",
       "</div>"
      ],
      "text/plain": [
       "                       To  S2_inside  S2_outside         Ti\n",
       "tiempo                                                     \n",
       "2019-02-01 00:01:00  20.4  22.252870   20.445535  22.331237\n",
       "2019-02-01 00:02:00  20.1  22.247435   20.197921  22.318119\n",
       "2019-02-01 00:03:00  20.1  22.237512   20.188427  22.304625\n",
       "2019-02-01 00:04:00  20.1  22.226851   20.182203  22.292133\n",
       "2019-02-01 00:05:00  20.1  22.216661   20.177797  22.280503\n",
       "...                   ...        ...         ...        ...\n",
       "2019-02-01 23:55:00  20.4  24.380429   20.542269  24.466128\n",
       "2019-02-01 23:56:00  20.4  24.364669   20.538861  24.450464\n",
       "2019-02-01 23:57:00  20.4  24.348906   20.536009  24.434832\n",
       "2019-02-01 23:58:00  20.4  24.333125   20.533554  24.419197\n",
       "2019-02-01 23:59:00  20.4  24.317354   20.531395  24.403521\n",
       "\n",
       "[1439 rows x 4 columns]"
      ]
     },
     "execution_count": 5,
     "metadata": {},
     "output_type": "execute_result"
    }
   ],
   "source": [
    "nombres4= np.loadtxt('../Datos/surfaceTemps.txt',dtype='U',max_rows=1,delimiter=',')\n",
    "nombres4[0]='tiempo'\n",
    "nombres4[1]='To'\n",
    "nombres4[2]='S2_inside'\n",
    "nombres4[3]='S2_outside'\n",
    "nombres4[4]='Ti'\n",
    "\n",
    "surface = importa('../Datos/surfaceTemps.txt', nombres4)\n",
    "surface"
   ]
  },
  {
   "cell_type": "code",
   "execution_count": 12,
   "id": "00ec9a71",
   "metadata": {},
   "outputs": [
    {
     "data": {
      "text/html": [
       "<div>\n",
       "<style scoped>\n",
       "    .dataframe tbody tr th:only-of-type {\n",
       "        vertical-align: middle;\n",
       "    }\n",
       "\n",
       "    .dataframe tbody tr th {\n",
       "        vertical-align: top;\n",
       "    }\n",
       "\n",
       "    .dataframe thead th {\n",
       "        text-align: right;\n",
       "    }\n",
       "</style>\n",
       "<table border=\"1\" class=\"dataframe\">\n",
       "  <thead>\n",
       "    <tr style=\"text-align: right;\">\n",
       "      <th></th>\n",
       "      <th>To</th>\n",
       "      <th>S2_inside</th>\n",
       "      <th>S2_outside</th>\n",
       "      <th>Ti</th>\n",
       "    </tr>\n",
       "    <tr>\n",
       "      <th>tiempo</th>\n",
       "      <th></th>\n",
       "      <th></th>\n",
       "      <th></th>\n",
       "      <th></th>\n",
       "    </tr>\n",
       "  </thead>\n",
       "  <tbody>\n",
       "    <tr>\n",
       "      <th>2019-02-01 00:01:00</th>\n",
       "      <td>20.4</td>\n",
       "      <td>22.252870</td>\n",
       "      <td>20.445535</td>\n",
       "      <td>22.331237</td>\n",
       "    </tr>\n",
       "    <tr>\n",
       "      <th>2019-02-01 00:02:00</th>\n",
       "      <td>20.1</td>\n",
       "      <td>22.247919</td>\n",
       "      <td>20.214224</td>\n",
       "      <td>22.318167</td>\n",
       "    </tr>\n",
       "    <tr>\n",
       "      <th>2019-02-01 00:03:00</th>\n",
       "      <td>20.1</td>\n",
       "      <td>22.239010</td>\n",
       "      <td>20.202749</td>\n",
       "      <td>22.304842</td>\n",
       "    </tr>\n",
       "    <tr>\n",
       "      <th>2019-02-01 00:04:00</th>\n",
       "      <td>20.1</td>\n",
       "      <td>22.229438</td>\n",
       "      <td>20.195046</td>\n",
       "      <td>22.292664</td>\n",
       "    </tr>\n",
       "    <tr>\n",
       "      <th>2019-02-01 00:05:00</th>\n",
       "      <td>20.1</td>\n",
       "      <td>22.220285</td>\n",
       "      <td>20.189490</td>\n",
       "      <td>22.281476</td>\n",
       "    </tr>\n",
       "    <tr>\n",
       "      <th>...</th>\n",
       "      <td>...</td>\n",
       "      <td>...</td>\n",
       "      <td>...</td>\n",
       "      <td>...</td>\n",
       "    </tr>\n",
       "    <tr>\n",
       "      <th>2019-02-01 23:55:00</th>\n",
       "      <td>20.4</td>\n",
       "      <td>25.108360</td>\n",
       "      <td>20.596952</td>\n",
       "      <td>25.175334</td>\n",
       "    </tr>\n",
       "    <tr>\n",
       "      <th>2019-02-01 23:56:00</th>\n",
       "      <td>20.4</td>\n",
       "      <td>25.096209</td>\n",
       "      <td>20.592518</td>\n",
       "      <td>25.163339</td>\n",
       "    </tr>\n",
       "    <tr>\n",
       "      <th>2019-02-01 23:57:00</th>\n",
       "      <td>20.4</td>\n",
       "      <td>25.084077</td>\n",
       "      <td>20.588771</td>\n",
       "      <td>25.151333</td>\n",
       "    </tr>\n",
       "    <tr>\n",
       "      <th>2019-02-01 23:58:00</th>\n",
       "      <td>20.4</td>\n",
       "      <td>25.071871</td>\n",
       "      <td>20.585525</td>\n",
       "      <td>25.139287</td>\n",
       "    </tr>\n",
       "    <tr>\n",
       "      <th>2019-02-01 23:59:00</th>\n",
       "      <td>20.4</td>\n",
       "      <td>25.059686</td>\n",
       "      <td>20.582657</td>\n",
       "      <td>25.127229</td>\n",
       "    </tr>\n",
       "  </tbody>\n",
       "</table>\n",
       "<p>1439 rows × 4 columns</p>\n",
       "</div>"
      ],
      "text/plain": [
       "                       To  S2_inside  S2_outside         Ti\n",
       "tiempo                                                     \n",
       "2019-02-01 00:01:00  20.4  22.252870   20.445535  22.331237\n",
       "2019-02-01 00:02:00  20.1  22.247919   20.214224  22.318167\n",
       "2019-02-01 00:03:00  20.1  22.239010   20.202749  22.304842\n",
       "2019-02-01 00:04:00  20.1  22.229438   20.195046  22.292664\n",
       "2019-02-01 00:05:00  20.1  22.220285   20.189490  22.281476\n",
       "...                   ...        ...         ...        ...\n",
       "2019-02-01 23:55:00  20.4  25.108360   20.596952  25.175334\n",
       "2019-02-01 23:56:00  20.4  25.096209   20.592518  25.163339\n",
       "2019-02-01 23:57:00  20.4  25.084077   20.588771  25.151333\n",
       "2019-02-01 23:58:00  20.4  25.071871   20.585525  25.139287\n",
       "2019-02-01 23:59:00  20.4  25.059686   20.582657  25.127229\n",
       "\n",
       "[1439 rows x 4 columns]"
      ]
     },
     "execution_count": 12,
     "metadata": {},
     "output_type": "execute_result"
    }
   ],
   "source": [
    "pico = importa('../Datos/con_pico.txt',nombres4)\n",
    "pico"
   ]
  },
  {
   "cell_type": "markdown",
   "id": "747fe030",
   "metadata": {},
   "source": [
    "Igualar el time step"
   ]
  },
  {
   "cell_type": "code",
   "execution_count": 6,
   "id": "594cc577",
   "metadata": {},
   "outputs": [],
   "source": [
    "dt=IDF.index-LES.index\n",
    "LES.index=LES.index+dt"
   ]
  },
  {
   "cell_type": "markdown",
   "id": "f45cd692",
   "metadata": {},
   "source": [
    "Graficar"
   ]
  },
  {
   "cell_type": "code",
   "execution_count": 20,
   "id": "54e60f6f",
   "metadata": {},
   "outputs": [
    {
     "data": {
      "text/plain": [
       "<matplotlib.legend.Legend at 0x27da99687c0>"
      ]
     },
     "execution_count": 20,
     "metadata": {},
     "output_type": "execute_result"
    },
    {
     "data": {
      "image/png": "[encoded data removed]",
      "text/plain": [
       "<Figure size 720x360 with 1 Axes>"
      ]
     },
     "metadata": {
      "needs_background": "light"
     },
     "output_type": "display_data"
    }
   ],
   "source": [
    "fig, ax = plt.subplots(figsize=(10,5)) \n",
    "plt.ylabel('Temperatura [°C]')\n",
    "#plt.title(\"IDF en condiciones de ener-habitat\")\n",
    "\n",
    "\n",
    "\n",
    "ax.plot(LES.To, 'k', label   = 'To_experimento')\n",
    "ax.plot(pico.To, 'b', label   = 'To_IDF')\n",
    "\n",
    "ax.plot(LES.Ti, 'm', label   = 'Ti_experimento')\n",
    "ax.plot(pico.Ti, 'g', label   = 'Ti_IDF')\n",
    "\n",
    "\n",
    "\n",
    "\n",
    "\n",
    "plt.grid()\n",
    "ax.legend(loc='lower right')"
   ]
  },
  {
   "cell_type": "code",
   "execution_count": null,
   "id": "c810e1db",
   "metadata": {},
   "outputs": [],
   "source": []
  },
  {
   "cell_type": "code",
   "execution_count": null,
   "id": "52b5af36",
   "metadata": {},
   "outputs": [],
   "source": []
  },
  {
   "cell_type": "code",
   "execution_count": null,
   "id": "d01ffea7",
   "metadata": {},
   "outputs": [],
   "source": []
  },
  {
   "cell_type": "code",
   "execution_count": null,
   "id": "0c379255",
   "metadata": {},
   "outputs": [],
   "source": []
  },
  {
   "cell_type": "code",
   "execution_count": null,
   "id": "da26ab9d",
   "metadata": {},
   "outputs": [],
   "source": []
  },
  {
   "cell_type": "code",
   "execution_count": null,
   "id": "01c38dc5",
   "metadata": {},
   "outputs": [],
   "source": []
  },
  {
   "cell_type": "code",
   "execution_count": null,
   "id": "d5092745",
   "metadata": {},
   "outputs": [],
   "source": []
  }
 ],
 "metadata": {
  "kernelspec": {
   "display_name": "Python 3",
   "language": "python",
   "name": "python3"
  },
  "language_info": {
   "codemirror_mode": {
    "name": "ipython",
    "version": 3
   },
   "file_extension": ".py",
   "mimetype": "text/x-python",
   "name": "python",
   "nbconvert_exporter": "python",
   "pygments_lexer": "ipython3",
   "version": "3.9.5"
  }
 },
 "nbformat": 4,
 "nbformat_minor": 5
}
