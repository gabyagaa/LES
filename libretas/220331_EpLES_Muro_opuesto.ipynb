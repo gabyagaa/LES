{
 "cells": [
  {
   "cell_type": "code",
   "execution_count": 1,
   "id": "afdf4e7c",
   "metadata": {},
   "outputs": [],
   "source": [
    "import pandas as pd\n",
    "import numpy as np\n",
    "import matplotlib.pyplot as plt"
   ]
  },
  {
   "cell_type": "markdown",
   "id": "f71d17f9",
   "metadata": {},
   "source": [
    "### Archivo LES (experimento)"
   ]
  },
  {
   "cell_type": "code",
   "execution_count": 2,
   "id": "c72ec63b",
   "metadata": {},
   "outputs": [],
   "source": [
    "nombres=np.loadtxt('../Datos/Datos_Prueba_2018-02-19_16-45 (1).txt',dtype='U',max_rows=1,skiprows=2,delimiter='\\t')\n",
    "nombres[0]='fecha'\n",
    "nombres[1]='hora'\n",
    "nombres[3]='Ti'\n",
    "nombres[7]='To'\n",
    "nombres[5]='Tg'\n",
    "nombres[8]='Tsi_SC'\n",
    "nombres[9]='Tso_SC'\n",
    "LES=pd.read_csv('../Datos/Datos_Prueba_2018-02-19_16-45 (1).txt',names=nombres,sep='\\t',skiprows=3)\n",
    "LES.hora = LES.hora.str.replace('p. m.','PM',regex=True)\n",
    "LES.hora = LES.hora.str.replace('a. m.','AM',regex=True)\n",
    "LES['time']=LES.fecha+ ' ' +LES.hora\n",
    "LES.time= pd.to_datetime(LES.time,dayfirst=True)\n",
    "LES.set_index('time',inplace=True)\n",
    "del LES['fecha']\n",
    "del LES['hora']\n",
    "upsampled     = LES.resample('1Min').pad()\n",
    "LES= upsampled.interpolate(method='time')\n",
    "LES=LES.drop(LES.index[0])"
   ]
  },
  {
   "cell_type": "markdown",
   "id": "36d65056",
   "metadata": {},
   "source": [
    "### Archivo ener-habitat (usando el programa ener-habitat)"
   ]
  },
  {
   "cell_type": "code",
   "execution_count": 3,
   "id": "29eefdef",
   "metadata": {},
   "outputs": [],
   "source": [
    "EH = pd.read_csv('../Datos/agaa._1_18_Nu10000_ho13.00.csv',sep='\\t')\n",
    "EH = EH.drop([0], axis=0)\n",
    "EH['#t']= EH['#t'].str.replace('.17',':10',regex=True)\n",
    "EH['#t']= EH['#t'].str.replace('.33',':20',regex=True)\n",
    "EH['#t']= EH['#t'].str.replace('.50',':30',regex=True)\n",
    "EH['#t']= EH['#t'].str.replace('.67',':40',regex=True)\n",
    "EH['#t']= EH['#t'].str.replace('.83',':50',regex=True)\n",
    "EH['#t']= EH['#t'].str.replace('24.00','23:59',regex=True)\n",
    "EH['#t']= EH['#t'].str.replace('.',':',regex=True)\n",
    "EH['tiempo']= '2019 02/01' +' '+ EH['#t']\n",
    "EH['tiempo']\n",
    "EH['tiempo']= pd.to_datetime(EH['tiempo'])\n",
    "EH.set_index(EH.tiempo,inplace=True)\n",
    "EH['Tsa'] = EH.Tsa.astype(float)\n",
    "EH['Ta'] = EH.Ta.astype(float)\n",
    "EH['Tparedint'] = EH.Tparedint.astype(float)\n",
    "EH['Tint'] = EH.Tint.astype(float)\n",
    "EH['Tsa'] = EH.Tsa.astype(float)"
   ]
  },
  {
   "cell_type": "markdown",
   "id": "a86b66b8",
   "metadata": {},
   "source": [
    "### Archivo IDF (simulacion de LES con condiciones de ener-habitat)"
   ]
  },
  {
   "cell_type": "code",
   "execution_count": 4,
   "id": "ea84f906",
   "metadata": {},
   "outputs": [],
   "source": [
    "nombres= np.loadtxt('../Datos/LES_enerhabitat.txt',dtype='U',max_rows=1,delimiter=',')\n",
    "nombres[0]='tiempo'\n",
    "nombres[1]='Ti_IDF'\n",
    "nombres[2]='Ta_IDF'\n",
    "nombres[19]='Ti_guarda'\n",
    "\n",
    "archivo = '../Datos/LES_enerhabitat.txt'\n",
    "def importa(archivo,nombres):\n",
    "    IDF= pd.read_csv(archivo,names=nombres,skiprows=1)\n",
    "    IDF.tiempo= IDF.tiempo.str.replace('24:00:00','23:59:59')\n",
    "    IDF.tiempo= '2019'+' '+ IDF.tiempo\n",
    "    IDF.tiempo= pd.to_datetime(IDF.tiempo,format='%Y %m/%d %H:%M:%S')\n",
    "    start_date = '2019 02/01'\n",
    "    end_date   = '2019 02/02'\n",
    "    IDF= IDF.loc[(IDF['tiempo'] > start_date) & (IDF['tiempo'] <= end_date)]\n",
    "    IDF.set_index(IDF.tiempo,inplace=True)\n",
    "    upsampled= IDF.resample('1Min').pad()\n",
    "    IDF= upsampled.interpolate(method='time')\n",
    "    IDF= upsampled.interpolate(method='time')\n",
    "    del IDF['tiempo']\n",
    "    return IDF\n",
    "IDF = importa('../Datos/LES_enerhabitat.txt',nombres)"
   ]
  },
  {
   "cell_type": "markdown",
   "id": "3c2b0e91",
   "metadata": {},
   "source": [
    "#### Muro opuesto con masa termica"
   ]
  },
  {
   "cell_type": "code",
   "execution_count": 5,
   "id": "b159c96b",
   "metadata": {},
   "outputs": [],
   "source": [
    "Mopuesto = importa('../Datos/LES_enerhabitat_Mopuesto.txt',nombres)"
   ]
  },
  {
   "cell_type": "markdown",
   "id": "5ba5cd5c",
   "metadata": {},
   "source": [
    "### IDF LES simplificacdo (cubo)"
   ]
  },
  {
   "cell_type": "code",
   "execution_count": 6,
   "id": "6383e354",
   "metadata": {},
   "outputs": [],
   "source": [
    "nombres2= np.loadtxt('../Datos/eh_simplificado_LES.txt',dtype='U',max_rows=1,delimiter=',')\n",
    "nombres2[0]='tiempo'\n",
    "nombres2[1]='To_cubo'\n",
    "nombres2[2]='Ti_cubo'\n",
    "\n",
    "cubo_LES = importa('../Datos/eh_simplificado_LES.txt',nombres2)"
   ]
  },
  {
   "cell_type": "code",
   "execution_count": 7,
   "id": "f890b423",
   "metadata": {},
   "outputs": [],
   "source": [
    "dt=IDF.index-LES.index\n",
    "LES.index=LES.index+dt"
   ]
  },
  {
   "cell_type": "code",
   "execution_count": 8,
   "id": "1d1c445b",
   "metadata": {},
   "outputs": [
    {
     "data": {
      "text/plain": [
       "<matplotlib.legend.Legend at 0x1f3df0ed6a0>"
      ]
     },
     "execution_count": 8,
     "metadata": {},
     "output_type": "execute_result"
    },
    {
     "data": {
      "image/png": "[encoded data removed]",
      "text/plain": [
       "<Figure size 720x360 with 1 Axes>"
      ]
     },
     "metadata": {
      "needs_background": "light"
     },
     "output_type": "display_data"
    }
   ],
   "source": [
    "fig, ax = plt.subplots(figsize=(10,5)) \n",
    "plt.ylabel('Temperatura [°C]')\n",
    "#plt.title(\"IDF en condiciones de ener-habitat\")\n",
    "\n",
    "#ax.plot(LES.To, 'b')\n",
    "#ax.plot(EH.Tsa, 'r')\n",
    "#ax.plot(IDF.Ta_IDF, 'g')\n",
    "#ax.plot(cubo.To_cubo, 'k')\n",
    "\n",
    "#ax.plot(LES.Ti, 'b--', label   = 'LES')\n",
    "#ax.plot(EH.Tint, 'r--', label   = 'EH')\n",
    "ax.plot(Mopuesto.Ti_IDF, 'b', label   = 'EP_LES_Mopuesto')\n",
    "ax.plot(IDF.Ti_IDF, 'g', label   = 'EP_LES')\n",
    "#ax.plot(IDF.Ti_guarda, 'k--', label   = 'IDF')\n",
    "ax.plot(cubo_LES.Ti_cubo, 'k--', label   = 'EP_simplificado')\n",
    "\n",
    "plt.grid()\n",
    "ax.legend()\n"
   ]
  },
  {
   "cell_type": "code",
   "execution_count": null,
   "id": "027b5c92",
   "metadata": {},
   "outputs": [],
   "source": []
  },
  {
   "cell_type": "code",
   "execution_count": null,
   "id": "e23bfda3",
   "metadata": {},
   "outputs": [],
   "source": []
  },
  {
   "cell_type": "code",
   "execution_count": null,
   "id": "bd47cafa",
   "metadata": {},
   "outputs": [],
   "source": []
  },
  {
   "cell_type": "code",
   "execution_count": null,
   "id": "c3b086ce",
   "metadata": {},
   "outputs": [],
   "source": []
  }
 ],
 "metadata": {
  "kernelspec": {
   "display_name": "Python 3",
   "language": "python",
   "name": "python3"
  },
  "language_info": {
   "codemirror_mode": {
    "name": "ipython",
    "version": 3
   },
   "file_extension": ".py",
   "mimetype": "text/x-python",
   "name": "python",
   "nbconvert_exporter": "python",
   "pygments_lexer": "ipython3",
   "version": "3.9.5"
  }
 },
 "nbformat": 4,
 "nbformat_minor": 5
}
