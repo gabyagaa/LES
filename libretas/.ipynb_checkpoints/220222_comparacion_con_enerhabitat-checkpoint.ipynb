{
 "cells": [
  {
   "cell_type": "code",
   "execution_count": 49,
   "id": "afdf4e7c",
   "metadata": {},
   "outputs": [],
   "source": [
    "import pandas as pd\n",
    "import numpy as np\n",
    "import matplotlib.pyplot as plt"
   ]
  },
  {
   "cell_type": "markdown",
   "id": "f71d17f9",
   "metadata": {},
   "source": [
    "### Archivo LES (experimento)"
   ]
  },
  {
   "cell_type": "code",
   "execution_count": 50,
   "id": "c72ec63b",
   "metadata": {},
   "outputs": [],
   "source": [
    "nombres=np.loadtxt('../Datos/Datos_Prueba_2018-02-19_16-45 (1).txt',dtype='U',max_rows=1,skiprows=2,delimiter='\\t')\n",
    "nombres[0]='fecha'\n",
    "nombres[1]='hora'\n",
    "nombres[3]='Ti'\n",
    "nombres[7]='To'\n",
    "nombres[5]='Tg'\n",
    "nombres[8]='Tsi_SC'\n",
    "nombres[9]='Tso_SC'\n",
    "LES=pd.read_csv('../Datos/Datos_Prueba_2018-02-19_16-45 (1).txt',names=nombres,sep='\\t',skiprows=3)\n",
    "LES.hora = LES.hora.str.replace('p. m.','PM',regex=True)\n",
    "LES.hora = LES.hora.str.replace('a. m.','AM',regex=True)\n",
    "LES['time']=LES.fecha+ ' ' +LES.hora\n",
    "LES.time= pd.to_datetime(LES.time,dayfirst=True)\n",
    "LES.set_index('time',inplace=True)\n",
    "del LES['fecha']\n",
    "del LES['hora']\n",
    "upsampled     = LES.resample('1Min').pad()\n",
    "LES= upsampled.interpolate(method='time')\n",
    "LES=LES.drop(LES.index[0])"
   ]
  },
  {
   "cell_type": "markdown",
   "id": "36d65056",
   "metadata": {},
   "source": [
    "### Archivo ener-habitat (usando el programa ener-habitat)"
   ]
  },
  {
   "cell_type": "code",
   "execution_count": 51,
   "id": "29eefdef",
   "metadata": {},
   "outputs": [],
   "source": [
    "EH = pd.read_csv('../Datos/agaa._1_18_Nu10000_ho13.00.csv',sep='\\t')\n",
    "EH = EH.drop([0], axis=0)\n",
    "EH['#t']= EH['#t'].str.replace('.17',':10',regex=True)\n",
    "EH['#t']= EH['#t'].str.replace('.33',':20',regex=True)\n",
    "EH['#t']= EH['#t'].str.replace('.50',':30',regex=True)\n",
    "EH['#t']= EH['#t'].str.replace('.67',':40',regex=True)\n",
    "EH['#t']= EH['#t'].str.replace('.83',':50',regex=True)\n",
    "EH['#t']= EH['#t'].str.replace('24.00','23:59',regex=True)\n",
    "EH['#t']= EH['#t'].str.replace('.',':',regex=True)\n",
    "EH['tiempo']= '2019 02/01' +' '+ EH['#t']\n",
    "EH['tiempo']\n",
    "EH['tiempo']= pd.to_datetime(EH['tiempo'])\n",
    "EH.set_index(EH.tiempo,inplace=True)\n",
    "EH['Tsa'] = EH.Tsa.astype(float)\n",
    "EH['Ta'] = EH.Ta.astype(float)\n",
    "EH['Tparedint'] = EH.Tparedint.astype(float)\n",
    "EH['Tint'] = EH.Tint.astype(float)\n",
    "EH['Tsa'] = EH.Tsa.astype(float)"
   ]
  },
  {
   "cell_type": "markdown",
   "id": "a86b66b8",
   "metadata": {},
   "source": [
    "### Archivo IDF (simulacion de LES con condiciones de ener-habitat)"
   ]
  },
  {
   "cell_type": "code",
   "execution_count": 52,
   "id": "ea84f906",
   "metadata": {},
   "outputs": [
    {
     "ename": "OSError",
     "evalue": "../Datos/nuevo.txt not found.",
     "output_type": "error",
     "traceback": [
      "\u001b[1;31m---------------------------------------------------------------------------\u001b[0m",
      "\u001b[1;31mOSError\u001b[0m                                   Traceback (most recent call last)",
      "\u001b[1;32m<ipython-input-52-665b6342c9b3>\u001b[0m in \u001b[0;36m<module>\u001b[1;34m\u001b[0m\n\u001b[1;32m----> 1\u001b[1;33m \u001b[0mnombres\u001b[0m\u001b[1;33m=\u001b[0m \u001b[0mnp\u001b[0m\u001b[1;33m.\u001b[0m\u001b[0mloadtxt\u001b[0m\u001b[1;33m(\u001b[0m\u001b[1;34m'../Datos/nuevo.txt'\u001b[0m\u001b[1;33m,\u001b[0m\u001b[0mdtype\u001b[0m\u001b[1;33m=\u001b[0m\u001b[1;34m'U'\u001b[0m\u001b[1;33m,\u001b[0m\u001b[0mmax_rows\u001b[0m\u001b[1;33m=\u001b[0m\u001b[1;36m1\u001b[0m\u001b[1;33m,\u001b[0m\u001b[0mdelimiter\u001b[0m\u001b[1;33m=\u001b[0m\u001b[1;34m','\u001b[0m\u001b[1;33m)\u001b[0m\u001b[1;33m\u001b[0m\u001b[1;33m\u001b[0m\u001b[0m\n\u001b[0m\u001b[0;32m      2\u001b[0m \u001b[0mnombres\u001b[0m\u001b[1;33m[\u001b[0m\u001b[1;36m0\u001b[0m\u001b[1;33m]\u001b[0m\u001b[1;33m=\u001b[0m\u001b[1;34m'tiempo'\u001b[0m\u001b[1;33m\u001b[0m\u001b[1;33m\u001b[0m\u001b[0m\n\u001b[0;32m      3\u001b[0m \u001b[0mnombres\u001b[0m\u001b[1;33m[\u001b[0m\u001b[1;36m1\u001b[0m\u001b[1;33m]\u001b[0m\u001b[1;33m=\u001b[0m\u001b[1;34m'Ti_IDF'\u001b[0m\u001b[1;33m\u001b[0m\u001b[1;33m\u001b[0m\u001b[0m\n\u001b[0;32m      4\u001b[0m \u001b[0mnombres\u001b[0m\u001b[1;33m[\u001b[0m\u001b[1;36m2\u001b[0m\u001b[1;33m]\u001b[0m\u001b[1;33m=\u001b[0m\u001b[1;34m'Ta_IDF'\u001b[0m\u001b[1;33m\u001b[0m\u001b[1;33m\u001b[0m\u001b[0m\n\u001b[0;32m      5\u001b[0m \u001b[0mnombres\u001b[0m\u001b[1;33m\u001b[0m\u001b[1;33m\u001b[0m\u001b[0m\n",
      "\u001b[1;32m~\\Documents\\WPy64-3950\\python-3.9.5.amd64\\lib\\site-packages\\numpy\\lib\\npyio.py\u001b[0m in \u001b[0;36mloadtxt\u001b[1;34m(fname, dtype, comments, delimiter, converters, skiprows, usecols, unpack, ndmin, encoding, max_rows, like)\u001b[0m\n\u001b[0;32m   1065\u001b[0m             \u001b[0mfname\u001b[0m \u001b[1;33m=\u001b[0m \u001b[0mos_fspath\u001b[0m\u001b[1;33m(\u001b[0m\u001b[0mfname\u001b[0m\u001b[1;33m)\u001b[0m\u001b[1;33m\u001b[0m\u001b[1;33m\u001b[0m\u001b[0m\n\u001b[0;32m   1066\u001b[0m         \u001b[1;32mif\u001b[0m \u001b[0m_is_string_like\u001b[0m\u001b[1;33m(\u001b[0m\u001b[0mfname\u001b[0m\u001b[1;33m)\u001b[0m\u001b[1;33m:\u001b[0m\u001b[1;33m\u001b[0m\u001b[1;33m\u001b[0m\u001b[0m\n\u001b[1;32m-> 1067\u001b[1;33m             \u001b[0mfh\u001b[0m \u001b[1;33m=\u001b[0m \u001b[0mnp\u001b[0m\u001b[1;33m.\u001b[0m\u001b[0mlib\u001b[0m\u001b[1;33m.\u001b[0m\u001b[0m_datasource\u001b[0m\u001b[1;33m.\u001b[0m\u001b[0mopen\u001b[0m\u001b[1;33m(\u001b[0m\u001b[0mfname\u001b[0m\u001b[1;33m,\u001b[0m \u001b[1;34m'rt'\u001b[0m\u001b[1;33m,\u001b[0m \u001b[0mencoding\u001b[0m\u001b[1;33m=\u001b[0m\u001b[0mencoding\u001b[0m\u001b[1;33m)\u001b[0m\u001b[1;33m\u001b[0m\u001b[1;33m\u001b[0m\u001b[0m\n\u001b[0m\u001b[0;32m   1068\u001b[0m             \u001b[0mfencoding\u001b[0m \u001b[1;33m=\u001b[0m \u001b[0mgetattr\u001b[0m\u001b[1;33m(\u001b[0m\u001b[0mfh\u001b[0m\u001b[1;33m,\u001b[0m \u001b[1;34m'encoding'\u001b[0m\u001b[1;33m,\u001b[0m \u001b[1;34m'latin1'\u001b[0m\u001b[1;33m)\u001b[0m\u001b[1;33m\u001b[0m\u001b[1;33m\u001b[0m\u001b[0m\n\u001b[0;32m   1069\u001b[0m             \u001b[0mfh\u001b[0m \u001b[1;33m=\u001b[0m \u001b[0miter\u001b[0m\u001b[1;33m(\u001b[0m\u001b[0mfh\u001b[0m\u001b[1;33m)\u001b[0m\u001b[1;33m\u001b[0m\u001b[1;33m\u001b[0m\u001b[0m\n",
      "\u001b[1;32m~\\Documents\\WPy64-3950\\python-3.9.5.amd64\\lib\\site-packages\\numpy\\lib\\_datasource.py\u001b[0m in \u001b[0;36mopen\u001b[1;34m(path, mode, destpath, encoding, newline)\u001b[0m\n\u001b[0;32m    191\u001b[0m \u001b[1;33m\u001b[0m\u001b[0m\n\u001b[0;32m    192\u001b[0m     \u001b[0mds\u001b[0m \u001b[1;33m=\u001b[0m \u001b[0mDataSource\u001b[0m\u001b[1;33m(\u001b[0m\u001b[0mdestpath\u001b[0m\u001b[1;33m)\u001b[0m\u001b[1;33m\u001b[0m\u001b[1;33m\u001b[0m\u001b[0m\n\u001b[1;32m--> 193\u001b[1;33m     \u001b[1;32mreturn\u001b[0m \u001b[0mds\u001b[0m\u001b[1;33m.\u001b[0m\u001b[0mopen\u001b[0m\u001b[1;33m(\u001b[0m\u001b[0mpath\u001b[0m\u001b[1;33m,\u001b[0m \u001b[0mmode\u001b[0m\u001b[1;33m,\u001b[0m \u001b[0mencoding\u001b[0m\u001b[1;33m=\u001b[0m\u001b[0mencoding\u001b[0m\u001b[1;33m,\u001b[0m \u001b[0mnewline\u001b[0m\u001b[1;33m=\u001b[0m\u001b[0mnewline\u001b[0m\u001b[1;33m)\u001b[0m\u001b[1;33m\u001b[0m\u001b[1;33m\u001b[0m\u001b[0m\n\u001b[0m\u001b[0;32m    194\u001b[0m \u001b[1;33m\u001b[0m\u001b[0m\n\u001b[0;32m    195\u001b[0m \u001b[1;33m\u001b[0m\u001b[0m\n",
      "\u001b[1;32m~\\Documents\\WPy64-3950\\python-3.9.5.amd64\\lib\\site-packages\\numpy\\lib\\_datasource.py\u001b[0m in \u001b[0;36mopen\u001b[1;34m(self, path, mode, encoding, newline)\u001b[0m\n\u001b[0;32m    531\u001b[0m                                       encoding=encoding, newline=newline)\n\u001b[0;32m    532\u001b[0m         \u001b[1;32melse\u001b[0m\u001b[1;33m:\u001b[0m\u001b[1;33m\u001b[0m\u001b[1;33m\u001b[0m\u001b[0m\n\u001b[1;32m--> 533\u001b[1;33m             \u001b[1;32mraise\u001b[0m \u001b[0mIOError\u001b[0m\u001b[1;33m(\u001b[0m\u001b[1;34m\"%s not found.\"\u001b[0m \u001b[1;33m%\u001b[0m \u001b[0mpath\u001b[0m\u001b[1;33m)\u001b[0m\u001b[1;33m\u001b[0m\u001b[1;33m\u001b[0m\u001b[0m\n\u001b[0m\u001b[0;32m    534\u001b[0m \u001b[1;33m\u001b[0m\u001b[0m\n\u001b[0;32m    535\u001b[0m \u001b[1;33m\u001b[0m\u001b[0m\n",
      "\u001b[1;31mOSError\u001b[0m: ../Datos/nuevo.txt not found."
     ]
    }
   ],
   "source": [
    "nombres= np.loadtxt('../Datos/nuevo.txt',dtype='U',max_rows=1,delimiter=',')\n",
    "nombres[0]='tiempo'\n",
    "nombres[1]='Ti_IDF'\n",
    "nombres[2]='Ta_IDF'\n",
    "nombres\n",
    "\n",
    "archivo = '../Datos/nuevo.txt'\n",
    "def importa(archivo,nombres):\n",
    "    IDF= pd.read_csv(archivo,names=nombres,skiprows=1)\n",
    "    IDF.tiempo= IDF.tiempo.str.replace('24:00:00','23:59:59')\n",
    "    IDF.tiempo= '2019'+' '+ IDF.tiempo\n",
    "    IDF.tiempo= pd.to_datetime(IDF.tiempo,format='%Y %m/%d %H:%M:%S')\n",
    "    start_date = '2019 02/01'\n",
    "    end_date   = '2019 02/02'\n",
    "    IDF= IDF.loc[(IDF['tiempo'] > start_date) & (IDF['tiempo'] <= end_date)]\n",
    "    IDF.set_index(IDF.tiempo,inplace=True)\n",
    "    upsampled= IDF.resample('1Min').pad()\n",
    "    IDF= upsampled.interpolate(method='time')\n",
    "    IDF= upsampled.interpolate(method='time')\n",
    "    del IDF['tiempo']\n",
    "    return IDF\n",
    "IDF = importa('../Datos/nuevo.txt',nombres)"
   ]
  },
  {
   "cell_type": "markdown",
   "id": "0d15288e",
   "metadata": {},
   "source": [
    "### IDF LES simplificacdo (cubo)"
   ]
  },
  {
   "cell_type": "code",
   "execution_count": 53,
   "id": "5c76a1b2",
   "metadata": {},
   "outputs": [],
   "source": [
    "nombres2= np.loadtxt('../Datos/enerhabitat.txt',dtype='U',max_rows=1,delimiter=',')\n",
    "nombres2[0]='tiempo'\n",
    "nombres2[1]='To_cubo'\n",
    "nombres2[2]='Ti_cubo'\n",
    "\n",
    "cubo = importa('../Datos/enerhabitat.txt',nombres2)"
   ]
  },
  {
   "cell_type": "code",
   "execution_count": 54,
   "id": "65e445f5",
   "metadata": {},
   "outputs": [],
   "source": [
    "dt=IDF.index-LES.index\n",
    "LES.index=LES.index+dt"
   ]
  },
  {
   "cell_type": "markdown",
   "id": "1c7a1588",
   "metadata": {},
   "source": [
    "### Gráfica IDF con condiciones de ener-habitat (todo adiabatico y no mass menos el muro con SC)"
   ]
  },
  {
   "cell_type": "code",
   "execution_count": 55,
   "id": "1d1c445b",
   "metadata": {},
   "outputs": [
    {
     "data": {
      "text/plain": [
       "<matplotlib.legend.Legend at 0x1ca92840e50>"
      ]
     },
     "execution_count": 55,
     "metadata": {},
     "output_type": "execute_result"
    },
    {
     "data": {
      "image/png": "[encoded data removed]",
      "text/plain": [
       "<Figure size 720x360 with 1 Axes>"
      ]
     },
     "metadata": {
      "needs_background": "light"
     },
     "output_type": "display_data"
    }
   ],
   "source": [
    "fig, ax = plt.subplots(figsize=(10,5)) \n",
    "plt.ylabel('Temperatura [°C]')\n",
    "plt.title(\"IDF en condiciones de ener-habitat\")\n",
    "\n",
    "#ax.plot(LES.To, 'b')\n",
    "#ax.plot(EH.Tsa, 'r')\n",
    "#ax.plot(IDF.Ta_IDF, 'g')\n",
    "#ax.plot(cubo.To_cubo, 'k')\n",
    "\n",
    "ax.plot(LES.Ti, 'b--', label   = 'LES')\n",
    "ax.plot(EH.Tint, 'r--', label   = 'EH')\n",
    "ax.plot(IDF.Ti_IDF, 'g--', label   = 'IDF')\n",
    "#ax.plot(cubo.Ti_cubo, 'k--', label   = 'cubo')\n",
    "\n",
    "plt.grid()\n",
    "ax.legend()\n"
   ]
  },
  {
   "cell_type": "code",
   "execution_count": null,
   "id": "21d92053",
   "metadata": {},
   "outputs": [],
   "source": []
  },
  {
   "cell_type": "code",
   "execution_count": null,
   "id": "cac1213a",
   "metadata": {},
   "outputs": [],
   "source": []
  }
 ],
 "metadata": {
  "kernelspec": {
   "display_name": "Python 3",
   "language": "python",
   "name": "python3"
  },
  "language_info": {
   "codemirror_mode": {
    "name": "ipython",
    "version": 3
   },
   "file_extension": ".py",
   "mimetype": "text/x-python",
   "name": "python",
   "nbconvert_exporter": "python",
   "pygments_lexer": "ipython3",
   "version": "3.9.5"
  }
 },
 "nbformat": 4,
 "nbformat_minor": 5
}
