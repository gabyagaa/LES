{
 "cells": [
  {
   "cell_type": "code",
   "execution_count": 8,
   "id": "c25ad09c",
   "metadata": {},
   "outputs": [],
   "source": [
    "import pandas as pd\n",
    "import numpy as np\n",
    "import matplotlib.pyplot as plt"
   ]
  },
  {
   "cell_type": "code",
   "execution_count": 12,
   "id": "38b5f0a3",
   "metadata": {},
   "outputs": [],
   "source": [
    "def read_epw(file,year=None,alias=False):\n",
    "    \"\"\"\n",
    "    Read EPW file \n",
    "    \n",
    "    Arguments:\n",
    "    ----------\n",
    "    file -- path location of EPW file\n",
    "    year -- None default to leave intact the year or change if desired. It raises a warning.\n",
    "    alias -- False default, True to change to To, Ig, Ib, Ws, RH, ...\n",
    "    \n",
    "    \"\"\"\n",
    "  \n",
    "    names = ['Year',\n",
    "               'Month',\n",
    "               'Day',\n",
    "               'Hour',\n",
    "               'Minute',\n",
    "               'Data Source and Uncertainty Flags',\n",
    "               'Dry Bulb Temperature',\n",
    "               'Dew Point Temperature',\n",
    "               'Relative Humidity',\n",
    "               'Atmospheric Station Pressure',\n",
    "               'Extraterrestrial Horizontal Radiation',\n",
    "               'Extraterrestrial Direct Normal Radiation',\n",
    "               'Horizontal Infrared Radiation Intensity',\n",
    "               'Global Horizontal Radiation',\n",
    "               'Direct Normal Radiation',\n",
    "               'Diffuse Horizontal Radiation',\n",
    "               'Global Horizontal Illuminance',\n",
    "               'Direct Normal Illuminance',\n",
    "               'Diffuse Horizontal Illuminance',\n",
    "               'Zenith Luminance',\n",
    "               'Wind Direction',\n",
    "               'Wind Speed',\n",
    "               'Total Sky Cover',\n",
    "               'Opaque Sky Cover',\n",
    "               'Visibility',\n",
    "               'Ceiling Height',\n",
    "               'Present Weather Observation',\n",
    "               'Present Weather Codes','Precipitable Water','Aerosol Optical Depth','Snow Depth','Days Since Last Snowfall',\n",
    "               'Albedo','Liquid Precipitation Depth','Liquid Precipitation Quantity']\n",
    "    \n",
    "    rename = {'Dry Bulb Temperature'        :'To',\n",
    "              'Relative Humidity'           :'RH',\n",
    "              'Atmospheric Station Pressure':'P' ,\n",
    "              'Global Horizontal Radiation' :'Ig',\n",
    "              'Direct Normal Radiation'     :'Ib',\n",
    "              'Diffuse Horizontal Radiation':'Id',\n",
    "              'Wind Direction'              :'Wd',\n",
    "              'Wind Speed'                  :'Ws'}\n",
    "    data = pd.read_csv(file,skiprows=8,header=None,names=names,usecols=range(35))\n",
    "    #data.Minute = 0\n",
    "    data.loc[data.Hour==24,['Hour']] = [00.]\n",
    "    #data.loc[data.Year==2019,['Year']] = [2018]\n",
    "    if year != None:\n",
    "        data.Year = year\n",
    "        warnings.warn(\"Year has been changed, be carefull\")\n",
    "    data['tiempo'] = data.Year.astype('str') + '-' + data.Month.astype('str')  + '-' + data.Day.astype('str') + ' ' + data.Hour.astype('str') + ':' + data.Minute.astype('str') \n",
    "    data.tiempo = pd.to_datetime(data.tiempo,format='%Y-%m-%d %H:%M')\n",
    "    data.set_index('tiempo',inplace=True)\n",
    "    del data['Year']\n",
    "    del data['Month']\n",
    "    del data['Day']\n",
    "    del data['Hour']\n",
    "    del data['Minute']\n",
    "    if alias:\n",
    "        data.rename(columns=rename,inplace=True)\n",
    "    return data\n"
   ]
  },
  {
   "cell_type": "code",
   "execution_count": 13,
   "id": "86456d89",
   "metadata": {},
   "outputs": [],
   "source": [
    "f = '../data/Tsa_Temixco_enero_este_0.3_eps.epw'"
   ]
  },
  {
   "cell_type": "code",
   "execution_count": 14,
   "id": "74c74e22",
   "metadata": {},
   "outputs": [],
   "source": [
    "epw = read_epw(f)"
   ]
  },
  {
   "cell_type": "code",
   "execution_count": 15,
   "id": "a15ba988",
   "metadata": {},
   "outputs": [],
   "source": [
    "nombres=np.loadtxt('../data/Datos_Prueba_2018-02-19_16-45 (1).txt',dtype='U',max_rows=1,skiprows=2,delimiter='\\t')\n",
    "nombres[0]='fecha'\n",
    "nombres[1]='hora'\n",
    "nombres[3]='Ti'\n",
    "nombres[6]='Tobj'\n",
    "nombres[7]='To'\n",
    "nombres[5]='Tg'\n",
    "nombres[8]='Tsi_SC'\n",
    "nombres[9]='Tso_SC'\n",
    "LES=pd.read_csv('../data/Datos_Prueba_2018-02-19_16-45 (1).txt',names=nombres,sep='\\t',skiprows=3)\n",
    "LES.hora = LES.hora.str.replace('p. m.','PM',regex=True)\n",
    "LES.hora = LES.hora.str.replace('a. m.','AM',regex=True)\n",
    "LES['time']=LES.fecha+ ' ' +LES.hora\n",
    "LES.time= pd.to_datetime(LES.time,dayfirst=True)\n",
    "LES.set_index('time',inplace=True)\n",
    "del LES['fecha']\n",
    "del LES['hora']\n",
    "upsampled     = LES.resample('1Min').pad()\n",
    "LES= upsampled.interpolate(method='time')\n",
    "LES=LES.drop(LES.index[0])"
   ]
  },
  {
   "cell_type": "code",
   "execution_count": 16,
   "id": "f0900626",
   "metadata": {},
   "outputs": [
    {
     "data": {
      "text/plain": [
       "[<matplotlib.lines.Line2D at 0x2b575c87370>]"
      ]
     },
     "execution_count": 16,
     "metadata": {},
     "output_type": "execute_result"
    },
    {
     "data": {
      "image/png": "[encoded data removed]",
      "text/plain": [
       "<Figure size 720x360 with 1 Axes>"
      ]
     },
     "metadata": {
      "needs_background": "light"
     },
     "output_type": "display_data"
    }
   ],
   "source": [
    "fig, ax = plt.subplots(figsize=(10,5)) \n",
    "ax.plot(LES.To)\n",
    "ax.plot(epw['Dry Bulb Temperature'].loc['2018-02'])"
   ]
  },
  {
   "cell_type": "code",
   "execution_count": 17,
   "id": "11cb0d6d",
   "metadata": {},
   "outputs": [
    {
     "data": {
      "text/plain": [
       "<AxesSubplot:xlabel='time'>"
      ]
     },
     "execution_count": 17,
     "metadata": {},
     "output_type": "execute_result"
    },
    {
     "data": {
      "image/png": "[encoded data removed]",
      "text/plain": [
       "<Figure size 432x288 with 1 Axes>"
      ]
     },
     "metadata": {
      "needs_background": "light"
     },
     "output_type": "display_data"
    }
   ],
   "source": [
    "LES.To.plot()"
   ]
  },
  {
   "cell_type": "code",
   "execution_count": 18,
   "id": "1c80b0cb",
   "metadata": {},
   "outputs": [
    {
     "data": {
      "text/plain": [
       "<AxesSubplot:xlabel='tiempo'>"
      ]
     },
     "execution_count": 18,
     "metadata": {},
     "output_type": "execute_result"
    },
    {
     "data": {
      "image/png": "[encoded data removed]",
      "text/plain": [
       "<Figure size 432x288 with 1 Axes>"
      ]
     },
     "metadata": {
      "needs_background": "light"
     },
     "output_type": "display_data"
    }
   ],
   "source": [
    "epw['Dry Bulb Temperature']['2019-02-01'].plot()"
   ]
  },
  {
   "cell_type": "code",
   "execution_count": 19,
   "id": "5833dde7",
   "metadata": {},
   "outputs": [],
   "source": [
    "LES = LES.set_index(epw.loc['2019-02-01 01:00:00':'2019-02-02 00:58:00'].index)"
   ]
  },
  {
   "cell_type": "code",
   "execution_count": 20,
   "id": "19190e76",
   "metadata": {
    "scrolled": true
   },
   "outputs": [
    {
     "data": {
      "text/plain": [
       "<AxesSubplot:xlabel='tiempo'>"
      ]
     },
     "execution_count": 20,
     "metadata": {},
     "output_type": "execute_result"
    },
    {
     "data": {
      "image/png": "[encoded data removed]",
      "text/plain": [
       "<Figure size 432x288 with 1 Axes>"
      ]
     },
     "metadata": {
      "needs_background": "light"
     },
     "output_type": "display_data"
    }
   ],
   "source": [
    "LES.To.plot()\n",
    "epw['Dry Bulb Temperature']['2019-02-01'].plot(grid=True)\n"
   ]
  },
  {
   "cell_type": "code",
   "execution_count": 21,
   "id": "f52ef0c7",
   "metadata": {},
   "outputs": [
    {
     "data": {
      "text/plain": [
       "<AxesSubplot:xlabel='tiempo'>"
      ]
     },
     "execution_count": 21,
     "metadata": {},
     "output_type": "execute_result"
    },
    {
     "data": {
      "image/png": "[encoded data removed]",
      "text/plain": [
       "<Figure size 432x288 with 1 Axes>"
      ]
     },
     "metadata": {
      "needs_background": "light"
     },
     "output_type": "display_data"
    }
   ],
   "source": [
    "LES.To                     .loc['2019-02-01 07:31:00':'2019-02-01 08:35:00 '].plot()\n",
    "epw['Dry Bulb Temperature'].loc['2019-02-01 07:31:00':'2019-02-01 08:35:00 '].plot()"
   ]
  },
  {
   "cell_type": "code",
   "execution_count": 22,
   "id": "cf6d3886",
   "metadata": {},
   "outputs": [
    {
     "name": "stderr",
     "output_type": "stream",
     "text": [
      "C:\\Users\\anaga\\Documents\\WPy64-3950\\python-3.9.5.amd64\\lib\\site-packages\\pandas\\core\\indexing.py:1637: SettingWithCopyWarning: \n",
      "A value is trying to be set on a copy of a slice from a DataFrame\n",
      "\n",
      "See the caveats in the documentation: https://pandas.pydata.org/pandas-docs/stable/user_guide/indexing.html#returning-a-view-versus-a-copy\n",
      "  self._setitem_single_block(indexer, value, name)\n"
     ]
    }
   ],
   "source": [
    "epw['Dry Bulb Temperature'].loc['2019-02-01 07:31:00':'2019-02-01 08:35:00 '] = LES.To.loc['2019-02-01 07:31:00':'2019-02-01 08:35:00 ']"
   ]
  },
  {
   "cell_type": "code",
   "execution_count": 23,
   "id": "623be015",
   "metadata": {},
   "outputs": [
    {
     "data": {
      "text/plain": [
       "<AxesSubplot:xlabel='tiempo'>"
      ]
     },
     "execution_count": 23,
     "metadata": {},
     "output_type": "execute_result"
    },
    {
     "data": {
      "image/png": "[encoded data removed]",
      "text/plain": [
       "<Figure size 432x288 with 1 Axes>"
      ]
     },
     "metadata": {
      "needs_background": "light"
     },
     "output_type": "display_data"
    }
   ],
   "source": [
    "epw['Dry Bulb Temperature'].loc['2019-02-01 07:31:00':'2019-02-01 08:35:00 '].plot()"
   ]
  },
  {
   "cell_type": "code",
   "execution_count": 24,
   "id": "aa697727",
   "metadata": {},
   "outputs": [
    {
     "data": {
      "text/plain": [
       "<AxesSubplot:xlabel='tiempo'>"
      ]
     },
     "execution_count": 24,
     "metadata": {},
     "output_type": "execute_result"
    },
    {
     "data": {
      "image/png": "[encoded data removed]",
      "text/plain": [
       "<Figure size 432x288 with 1 Axes>"
      ]
     },
     "metadata": {
      "needs_background": "light"
     },
     "output_type": "display_data"
    }
   ],
   "source": [
    "LES.To                     .loc['2019-02-01'].plot()\n",
    "epw['Dry Bulb Temperature'].loc['2019-02-01'].plot()"
   ]
  },
  {
   "cell_type": "code",
   "execution_count": 25,
   "id": "301608b7",
   "metadata": {},
   "outputs": [
    {
     "data": {
      "text/plain": [
       "<AxesSubplot:xlabel='tiempo'>"
      ]
     },
     "execution_count": 25,
     "metadata": {},
     "output_type": "execute_result"
    },
    {
     "data": {
      "image/png": "[encoded data removed]",
      "text/plain": [
       "<Figure size 432x288 with 1 Axes>"
      ]
     },
     "metadata": {
      "needs_background": "light"
     },
     "output_type": "display_data"
    }
   ],
   "source": [
    "epw['Dry Bulb Temperature'].loc['2019-02-01'].plot()\n",
    "LES.To                     .loc['2019-02-01'].plot()"
   ]
  },
  {
   "cell_type": "code",
   "execution_count": 26,
   "id": "304206bf",
   "metadata": {},
   "outputs": [],
   "source": [
    "fecha = []\n",
    "\n",
    "for i in  range(2,29,1):\n",
    "    if i < 10:\n",
    "        fecha.append('2019-02-0' + str(i))\n",
    "    else:\n",
    "        fecha.append('2019-02-' + str(i))\n",
    "    \n",
    "   \n",
    "    "
   ]
  },
  {
   "cell_type": "code",
   "execution_count": 27,
   "id": "696a8c5d",
   "metadata": {},
   "outputs": [],
   "source": [
    "valores = []\n",
    "for i in LES['To'].loc['2019-02-01 07:31:00':'2019-02-01 08:35:00']:\n",
    "    valores.append(i)\n",
    "    \n",
    "\n"
   ]
  },
  {
   "cell_type": "code",
   "execution_count": 28,
   "id": "e1a54cbd",
   "metadata": {},
   "outputs": [
    {
     "name": "stderr",
     "output_type": "stream",
     "text": [
      "C:\\Users\\anaga\\Documents\\WPy64-3950\\python-3.9.5.amd64\\lib\\site-packages\\pandas\\core\\indexing.py:1637: SettingWithCopyWarning: \n",
      "A value is trying to be set on a copy of a slice from a DataFrame\n",
      "\n",
      "See the caveats in the documentation: https://pandas.pydata.org/pandas-docs/stable/user_guide/indexing.html#returning-a-view-versus-a-copy\n",
      "  self._setitem_single_block(indexer, value, name)\n"
     ]
    }
   ],
   "source": [
    "a = ' 07:31:00'\n",
    "b = ' 08:35:00'\n",
    "for i in fecha:\n",
    "    epw['Dry Bulb Temperature'].loc[i + a: i + b ]  = valores"
   ]
  },
  {
   "cell_type": "code",
   "execution_count": 29,
   "id": "e5c89008",
   "metadata": {},
   "outputs": [
    {
     "data": {
      "text/plain": [
       "<AxesSubplot:xlabel='tiempo'>"
      ]
     },
     "execution_count": 29,
     "metadata": {},
     "output_type": "execute_result"
    },
    {
     "data": {
      "image/png": "[encoded data removed]",
      "text/plain": [
       "<Figure size 432x288 with 1 Axes>"
      ]
     },
     "metadata": {
      "needs_background": "light"
     },
     "output_type": "display_data"
    }
   ],
   "source": [
    "epw['Dry Bulb Temperature'].loc['2019-02-15'].plot()"
   ]
  },
  {
   "cell_type": "code",
   "execution_count": 30,
   "id": "0e99aa99",
   "metadata": {
    "scrolled": true
   },
   "outputs": [
    {
     "data": {
      "text/html": [
       "<div>\n",
       "<style scoped>\n",
       "    .dataframe tbody tr th:only-of-type {\n",
       "        vertical-align: middle;\n",
       "    }\n",
       "\n",
       "    .dataframe tbody tr th {\n",
       "        vertical-align: top;\n",
       "    }\n",
       "\n",
       "    .dataframe thead th {\n",
       "        text-align: right;\n",
       "    }\n",
       "</style>\n",
       "<table border=\"1\" class=\"dataframe\">\n",
       "  <thead>\n",
       "    <tr style=\"text-align: right;\">\n",
       "      <th></th>\n",
       "      <th>Data Source and Uncertainty Flags</th>\n",
       "      <th>Dry Bulb Temperature</th>\n",
       "      <th>Dew Point Temperature</th>\n",
       "      <th>Relative Humidity</th>\n",
       "      <th>Atmospheric Station Pressure</th>\n",
       "      <th>Extraterrestrial Horizontal Radiation</th>\n",
       "      <th>Extraterrestrial Direct Normal Radiation</th>\n",
       "      <th>Horizontal Infrared Radiation Intensity</th>\n",
       "      <th>Global Horizontal Radiation</th>\n",
       "      <th>Direct Normal Radiation</th>\n",
       "      <th>...</th>\n",
       "      <th>Ceiling Height</th>\n",
       "      <th>Present Weather Observation</th>\n",
       "      <th>Present Weather Codes</th>\n",
       "      <th>Precipitable Water</th>\n",
       "      <th>Aerosol Optical Depth</th>\n",
       "      <th>Snow Depth</th>\n",
       "      <th>Days Since Last Snowfall</th>\n",
       "      <th>Albedo</th>\n",
       "      <th>Liquid Precipitation Depth</th>\n",
       "      <th>Liquid Precipitation Quantity</th>\n",
       "    </tr>\n",
       "    <tr>\n",
       "      <th>tiempo</th>\n",
       "      <th></th>\n",
       "      <th></th>\n",
       "      <th></th>\n",
       "      <th></th>\n",
       "      <th></th>\n",
       "      <th></th>\n",
       "      <th></th>\n",
       "      <th></th>\n",
       "      <th></th>\n",
       "      <th></th>\n",
       "      <th></th>\n",
       "      <th></th>\n",
       "      <th></th>\n",
       "      <th></th>\n",
       "      <th></th>\n",
       "      <th></th>\n",
       "      <th></th>\n",
       "      <th></th>\n",
       "      <th></th>\n",
       "      <th></th>\n",
       "      <th></th>\n",
       "    </tr>\n",
       "  </thead>\n",
       "  <tbody>\n",
       "    <tr>\n",
       "      <th>2019-01-01 01:00:00</th>\n",
       "      <td>?9?9?9?9E0?9?9?9*9*9?9*9*9?9*9*9?9?9*9*_*9*9*9...</td>\n",
       "      <td>20.4</td>\n",
       "      <td>3.0</td>\n",
       "      <td>32</td>\n",
       "      <td>86864</td>\n",
       "      <td>9999.0</td>\n",
       "      <td>9999.0</td>\n",
       "      <td>354.7685</td>\n",
       "      <td>0.0</td>\n",
       "      <td>0.0</td>\n",
       "      <td>...</td>\n",
       "      <td>999</td>\n",
       "      <td>9</td>\n",
       "      <td>999999999</td>\n",
       "      <td>0</td>\n",
       "      <td>0.0</td>\n",
       "      <td>0</td>\n",
       "      <td>88</td>\n",
       "      <td>999.0</td>\n",
       "      <td>999.0</td>\n",
       "      <td>99.0</td>\n",
       "    </tr>\n",
       "    <tr>\n",
       "      <th>2019-01-01 01:01:00</th>\n",
       "      <td>?9?9?9?9E0?9?9?9*9*9?9*9*9?9*9*9?9?9*9*_*9*9*9...</td>\n",
       "      <td>20.4</td>\n",
       "      <td>3.0</td>\n",
       "      <td>32</td>\n",
       "      <td>86864</td>\n",
       "      <td>9999.0</td>\n",
       "      <td>9999.0</td>\n",
       "      <td>354.7685</td>\n",
       "      <td>0.0</td>\n",
       "      <td>0.0</td>\n",
       "      <td>...</td>\n",
       "      <td>999</td>\n",
       "      <td>9</td>\n",
       "      <td>999999999</td>\n",
       "      <td>0</td>\n",
       "      <td>0.0</td>\n",
       "      <td>0</td>\n",
       "      <td>88</td>\n",
       "      <td>999.0</td>\n",
       "      <td>999.0</td>\n",
       "      <td>99.0</td>\n",
       "    </tr>\n",
       "    <tr>\n",
       "      <th>2019-01-01 01:02:00</th>\n",
       "      <td>?9?9?9?9E0?9?9?9*9*9?9*9*9?9*9*9?9?9*9*_*9*9*9...</td>\n",
       "      <td>20.4</td>\n",
       "      <td>3.0</td>\n",
       "      <td>32</td>\n",
       "      <td>86864</td>\n",
       "      <td>9999.0</td>\n",
       "      <td>9999.0</td>\n",
       "      <td>354.7685</td>\n",
       "      <td>0.0</td>\n",
       "      <td>0.0</td>\n",
       "      <td>...</td>\n",
       "      <td>999</td>\n",
       "      <td>9</td>\n",
       "      <td>999999999</td>\n",
       "      <td>0</td>\n",
       "      <td>0.0</td>\n",
       "      <td>0</td>\n",
       "      <td>88</td>\n",
       "      <td>999.0</td>\n",
       "      <td>999.0</td>\n",
       "      <td>99.0</td>\n",
       "    </tr>\n",
       "    <tr>\n",
       "      <th>2019-01-01 01:03:00</th>\n",
       "      <td>?9?9?9?9E0?9?9?9*9*9?9*9*9?9*9*9?9?9*9*_*9*9*9...</td>\n",
       "      <td>20.4</td>\n",
       "      <td>3.0</td>\n",
       "      <td>32</td>\n",
       "      <td>86864</td>\n",
       "      <td>9999.0</td>\n",
       "      <td>9999.0</td>\n",
       "      <td>354.7685</td>\n",
       "      <td>0.0</td>\n",
       "      <td>0.0</td>\n",
       "      <td>...</td>\n",
       "      <td>999</td>\n",
       "      <td>9</td>\n",
       "      <td>999999999</td>\n",
       "      <td>0</td>\n",
       "      <td>0.0</td>\n",
       "      <td>0</td>\n",
       "      <td>88</td>\n",
       "      <td>999.0</td>\n",
       "      <td>999.0</td>\n",
       "      <td>99.0</td>\n",
       "    </tr>\n",
       "    <tr>\n",
       "      <th>2019-01-01 01:04:00</th>\n",
       "      <td>?9?9?9?9E0?9?9?9*9*9?9*9*9?9*9*9?9?9*9*_*9*9*9...</td>\n",
       "      <td>20.4</td>\n",
       "      <td>3.0</td>\n",
       "      <td>32</td>\n",
       "      <td>86864</td>\n",
       "      <td>9999.0</td>\n",
       "      <td>9999.0</td>\n",
       "      <td>354.7685</td>\n",
       "      <td>0.0</td>\n",
       "      <td>0.0</td>\n",
       "      <td>...</td>\n",
       "      <td>999</td>\n",
       "      <td>9</td>\n",
       "      <td>999999999</td>\n",
       "      <td>0</td>\n",
       "      <td>0.0</td>\n",
       "      <td>0</td>\n",
       "      <td>88</td>\n",
       "      <td>999.0</td>\n",
       "      <td>999.0</td>\n",
       "      <td>99.0</td>\n",
       "    </tr>\n",
       "    <tr>\n",
       "      <th>...</th>\n",
       "      <td>...</td>\n",
       "      <td>...</td>\n",
       "      <td>...</td>\n",
       "      <td>...</td>\n",
       "      <td>...</td>\n",
       "      <td>...</td>\n",
       "      <td>...</td>\n",
       "      <td>...</td>\n",
       "      <td>...</td>\n",
       "      <td>...</td>\n",
       "      <td>...</td>\n",
       "      <td>...</td>\n",
       "      <td>...</td>\n",
       "      <td>...</td>\n",
       "      <td>...</td>\n",
       "      <td>...</td>\n",
       "      <td>...</td>\n",
       "      <td>...</td>\n",
       "      <td>...</td>\n",
       "      <td>...</td>\n",
       "      <td>...</td>\n",
       "    </tr>\n",
       "    <tr>\n",
       "      <th>2019-12-31 00:55:00</th>\n",
       "      <td>?9?9?9?9E0?9?9?9*9*9?9*9*9?9*9*9?9?9*9*_*9*9*9...</td>\n",
       "      <td>20.6</td>\n",
       "      <td>3.0</td>\n",
       "      <td>31</td>\n",
       "      <td>86864</td>\n",
       "      <td>9999.0</td>\n",
       "      <td>9999.0</td>\n",
       "      <td>355.5426</td>\n",
       "      <td>0.0</td>\n",
       "      <td>0.0</td>\n",
       "      <td>...</td>\n",
       "      <td>999</td>\n",
       "      <td>9</td>\n",
       "      <td>999999999</td>\n",
       "      <td>0</td>\n",
       "      <td>0.0</td>\n",
       "      <td>0</td>\n",
       "      <td>88</td>\n",
       "      <td>999.0</td>\n",
       "      <td>999.0</td>\n",
       "      <td>99.0</td>\n",
       "    </tr>\n",
       "    <tr>\n",
       "      <th>2019-12-31 00:56:00</th>\n",
       "      <td>?9?9?9?9E0?9?9?9*9*9?9*9*9?9*9*9?9?9*9*_*9*9*9...</td>\n",
       "      <td>20.6</td>\n",
       "      <td>3.0</td>\n",
       "      <td>31</td>\n",
       "      <td>86864</td>\n",
       "      <td>9999.0</td>\n",
       "      <td>9999.0</td>\n",
       "      <td>355.5426</td>\n",
       "      <td>0.0</td>\n",
       "      <td>0.0</td>\n",
       "      <td>...</td>\n",
       "      <td>999</td>\n",
       "      <td>9</td>\n",
       "      <td>999999999</td>\n",
       "      <td>0</td>\n",
       "      <td>0.0</td>\n",
       "      <td>0</td>\n",
       "      <td>88</td>\n",
       "      <td>999.0</td>\n",
       "      <td>999.0</td>\n",
       "      <td>99.0</td>\n",
       "    </tr>\n",
       "    <tr>\n",
       "      <th>2019-12-31 00:57:00</th>\n",
       "      <td>?9?9?9?9E0?9?9?9*9*9?9*9*9?9*9*9?9?9*9*_*9*9*9...</td>\n",
       "      <td>20.6</td>\n",
       "      <td>3.0</td>\n",
       "      <td>31</td>\n",
       "      <td>86864</td>\n",
       "      <td>9999.0</td>\n",
       "      <td>9999.0</td>\n",
       "      <td>355.5426</td>\n",
       "      <td>0.0</td>\n",
       "      <td>0.0</td>\n",
       "      <td>...</td>\n",
       "      <td>999</td>\n",
       "      <td>9</td>\n",
       "      <td>999999999</td>\n",
       "      <td>0</td>\n",
       "      <td>0.0</td>\n",
       "      <td>0</td>\n",
       "      <td>88</td>\n",
       "      <td>999.0</td>\n",
       "      <td>999.0</td>\n",
       "      <td>99.0</td>\n",
       "    </tr>\n",
       "    <tr>\n",
       "      <th>2019-12-31 00:58:00</th>\n",
       "      <td>?9?9?9?9E0?9?9?9*9*9?9*9*9?9*9*9?9?9*9*_*9*9*9...</td>\n",
       "      <td>20.6</td>\n",
       "      <td>3.0</td>\n",
       "      <td>31</td>\n",
       "      <td>86864</td>\n",
       "      <td>9999.0</td>\n",
       "      <td>9999.0</td>\n",
       "      <td>355.5426</td>\n",
       "      <td>0.0</td>\n",
       "      <td>0.0</td>\n",
       "      <td>...</td>\n",
       "      <td>999</td>\n",
       "      <td>9</td>\n",
       "      <td>999999999</td>\n",
       "      <td>0</td>\n",
       "      <td>0.0</td>\n",
       "      <td>0</td>\n",
       "      <td>88</td>\n",
       "      <td>999.0</td>\n",
       "      <td>999.0</td>\n",
       "      <td>99.0</td>\n",
       "    </tr>\n",
       "    <tr>\n",
       "      <th>2019-12-31 00:59:00</th>\n",
       "      <td>?9?9?9?9E0?9?9?9*9*9?9*9*9?9*9*9?9?9*9*_*9*9*9...</td>\n",
       "      <td>20.4</td>\n",
       "      <td>3.0</td>\n",
       "      <td>32</td>\n",
       "      <td>86864</td>\n",
       "      <td>9999.0</td>\n",
       "      <td>9999.0</td>\n",
       "      <td>354.5752</td>\n",
       "      <td>0.0</td>\n",
       "      <td>0.0</td>\n",
       "      <td>...</td>\n",
       "      <td>999</td>\n",
       "      <td>9</td>\n",
       "      <td>999999999</td>\n",
       "      <td>0</td>\n",
       "      <td>0.0</td>\n",
       "      <td>0</td>\n",
       "      <td>88</td>\n",
       "      <td>999.0</td>\n",
       "      <td>999.0</td>\n",
       "      <td>99.0</td>\n",
       "    </tr>\n",
       "  </tbody>\n",
       "</table>\n",
       "<p>525600 rows × 30 columns</p>\n",
       "</div>"
      ],
      "text/plain": [
       "                                     Data Source and Uncertainty Flags  \\\n",
       "tiempo                                                                   \n",
       "2019-01-01 01:00:00  ?9?9?9?9E0?9?9?9*9*9?9*9*9?9*9*9?9?9*9*_*9*9*9...   \n",
       "2019-01-01 01:01:00  ?9?9?9?9E0?9?9?9*9*9?9*9*9?9*9*9?9?9*9*_*9*9*9...   \n",
       "2019-01-01 01:02:00  ?9?9?9?9E0?9?9?9*9*9?9*9*9?9*9*9?9?9*9*_*9*9*9...   \n",
       "2019-01-01 01:03:00  ?9?9?9?9E0?9?9?9*9*9?9*9*9?9*9*9?9?9*9*_*9*9*9...   \n",
       "2019-01-01 01:04:00  ?9?9?9?9E0?9?9?9*9*9?9*9*9?9*9*9?9?9*9*_*9*9*9...   \n",
       "...                                                                ...   \n",
       "2019-12-31 00:55:00  ?9?9?9?9E0?9?9?9*9*9?9*9*9?9*9*9?9?9*9*_*9*9*9...   \n",
       "2019-12-31 00:56:00  ?9?9?9?9E0?9?9?9*9*9?9*9*9?9*9*9?9?9*9*_*9*9*9...   \n",
       "2019-12-31 00:57:00  ?9?9?9?9E0?9?9?9*9*9?9*9*9?9*9*9?9?9*9*_*9*9*9...   \n",
       "2019-12-31 00:58:00  ?9?9?9?9E0?9?9?9*9*9?9*9*9?9*9*9?9?9*9*_*9*9*9...   \n",
       "2019-12-31 00:59:00  ?9?9?9?9E0?9?9?9*9*9?9*9*9?9*9*9?9?9*9*_*9*9*9...   \n",
       "\n",
       "                     Dry Bulb Temperature  Dew Point Temperature  \\\n",
       "tiempo                                                             \n",
       "2019-01-01 01:00:00                  20.4                    3.0   \n",
       "2019-01-01 01:01:00                  20.4                    3.0   \n",
       "2019-01-01 01:02:00                  20.4                    3.0   \n",
       "2019-01-01 01:03:00                  20.4                    3.0   \n",
       "2019-01-01 01:04:00                  20.4                    3.0   \n",
       "...                                   ...                    ...   \n",
       "2019-12-31 00:55:00                  20.6                    3.0   \n",
       "2019-12-31 00:56:00                  20.6                    3.0   \n",
       "2019-12-31 00:57:00                  20.6                    3.0   \n",
       "2019-12-31 00:58:00                  20.6                    3.0   \n",
       "2019-12-31 00:59:00                  20.4                    3.0   \n",
       "\n",
       "                     Relative Humidity  Atmospheric Station Pressure  \\\n",
       "tiempo                                                                 \n",
       "2019-01-01 01:00:00                 32                         86864   \n",
       "2019-01-01 01:01:00                 32                         86864   \n",
       "2019-01-01 01:02:00                 32                         86864   \n",
       "2019-01-01 01:03:00                 32                         86864   \n",
       "2019-01-01 01:04:00                 32                         86864   \n",
       "...                                ...                           ...   \n",
       "2019-12-31 00:55:00                 31                         86864   \n",
       "2019-12-31 00:56:00                 31                         86864   \n",
       "2019-12-31 00:57:00                 31                         86864   \n",
       "2019-12-31 00:58:00                 31                         86864   \n",
       "2019-12-31 00:59:00                 32                         86864   \n",
       "\n",
       "                     Extraterrestrial Horizontal Radiation  \\\n",
       "tiempo                                                       \n",
       "2019-01-01 01:00:00                                 9999.0   \n",
       "2019-01-01 01:01:00                                 9999.0   \n",
       "2019-01-01 01:02:00                                 9999.0   \n",
       "2019-01-01 01:03:00                                 9999.0   \n",
       "2019-01-01 01:04:00                                 9999.0   \n",
       "...                                                    ...   \n",
       "2019-12-31 00:55:00                                 9999.0   \n",
       "2019-12-31 00:56:00                                 9999.0   \n",
       "2019-12-31 00:57:00                                 9999.0   \n",
       "2019-12-31 00:58:00                                 9999.0   \n",
       "2019-12-31 00:59:00                                 9999.0   \n",
       "\n",
       "                     Extraterrestrial Direct Normal Radiation  \\\n",
       "tiempo                                                          \n",
       "2019-01-01 01:00:00                                    9999.0   \n",
       "2019-01-01 01:01:00                                    9999.0   \n",
       "2019-01-01 01:02:00                                    9999.0   \n",
       "2019-01-01 01:03:00                                    9999.0   \n",
       "2019-01-01 01:04:00                                    9999.0   \n",
       "...                                                       ...   \n",
       "2019-12-31 00:55:00                                    9999.0   \n",
       "2019-12-31 00:56:00                                    9999.0   \n",
       "2019-12-31 00:57:00                                    9999.0   \n",
       "2019-12-31 00:58:00                                    9999.0   \n",
       "2019-12-31 00:59:00                                    9999.0   \n",
       "\n",
       "                     Horizontal Infrared Radiation Intensity  \\\n",
       "tiempo                                                         \n",
       "2019-01-01 01:00:00                                 354.7685   \n",
       "2019-01-01 01:01:00                                 354.7685   \n",
       "2019-01-01 01:02:00                                 354.7685   \n",
       "2019-01-01 01:03:00                                 354.7685   \n",
       "2019-01-01 01:04:00                                 354.7685   \n",
       "...                                                      ...   \n",
       "2019-12-31 00:55:00                                 355.5426   \n",
       "2019-12-31 00:56:00                                 355.5426   \n",
       "2019-12-31 00:57:00                                 355.5426   \n",
       "2019-12-31 00:58:00                                 355.5426   \n",
       "2019-12-31 00:59:00                                 354.5752   \n",
       "\n",
       "                     Global Horizontal Radiation  Direct Normal Radiation  \\\n",
       "tiempo                                                                      \n",
       "2019-01-01 01:00:00                          0.0                      0.0   \n",
       "2019-01-01 01:01:00                          0.0                      0.0   \n",
       "2019-01-01 01:02:00                          0.0                      0.0   \n",
       "2019-01-01 01:03:00                          0.0                      0.0   \n",
       "2019-01-01 01:04:00                          0.0                      0.0   \n",
       "...                                          ...                      ...   \n",
       "2019-12-31 00:55:00                          0.0                      0.0   \n",
       "2019-12-31 00:56:00                          0.0                      0.0   \n",
       "2019-12-31 00:57:00                          0.0                      0.0   \n",
       "2019-12-31 00:58:00                          0.0                      0.0   \n",
       "2019-12-31 00:59:00                          0.0                      0.0   \n",
       "\n",
       "                     ...  Ceiling Height  Present Weather Observation  \\\n",
       "tiempo               ...                                                \n",
       "2019-01-01 01:00:00  ...             999                            9   \n",
       "2019-01-01 01:01:00  ...             999                            9   \n",
       "2019-01-01 01:02:00  ...             999                            9   \n",
       "2019-01-01 01:03:00  ...             999                            9   \n",
       "2019-01-01 01:04:00  ...             999                            9   \n",
       "...                  ...             ...                          ...   \n",
       "2019-12-31 00:55:00  ...             999                            9   \n",
       "2019-12-31 00:56:00  ...             999                            9   \n",
       "2019-12-31 00:57:00  ...             999                            9   \n",
       "2019-12-31 00:58:00  ...             999                            9   \n",
       "2019-12-31 00:59:00  ...             999                            9   \n",
       "\n",
       "                     Present Weather Codes  Precipitable Water  \\\n",
       "tiempo                                                           \n",
       "2019-01-01 01:00:00              999999999                   0   \n",
       "2019-01-01 01:01:00              999999999                   0   \n",
       "2019-01-01 01:02:00              999999999                   0   \n",
       "2019-01-01 01:03:00              999999999                   0   \n",
       "2019-01-01 01:04:00              999999999                   0   \n",
       "...                                    ...                 ...   \n",
       "2019-12-31 00:55:00              999999999                   0   \n",
       "2019-12-31 00:56:00              999999999                   0   \n",
       "2019-12-31 00:57:00              999999999                   0   \n",
       "2019-12-31 00:58:00              999999999                   0   \n",
       "2019-12-31 00:59:00              999999999                   0   \n",
       "\n",
       "                     Aerosol Optical Depth  Snow Depth  \\\n",
       "tiempo                                                   \n",
       "2019-01-01 01:00:00                    0.0           0   \n",
       "2019-01-01 01:01:00                    0.0           0   \n",
       "2019-01-01 01:02:00                    0.0           0   \n",
       "2019-01-01 01:03:00                    0.0           0   \n",
       "2019-01-01 01:04:00                    0.0           0   \n",
       "...                                    ...         ...   \n",
       "2019-12-31 00:55:00                    0.0           0   \n",
       "2019-12-31 00:56:00                    0.0           0   \n",
       "2019-12-31 00:57:00                    0.0           0   \n",
       "2019-12-31 00:58:00                    0.0           0   \n",
       "2019-12-31 00:59:00                    0.0           0   \n",
       "\n",
       "                     Days Since Last Snowfall  Albedo  \\\n",
       "tiempo                                                  \n",
       "2019-01-01 01:00:00                        88   999.0   \n",
       "2019-01-01 01:01:00                        88   999.0   \n",
       "2019-01-01 01:02:00                        88   999.0   \n",
       "2019-01-01 01:03:00                        88   999.0   \n",
       "2019-01-01 01:04:00                        88   999.0   \n",
       "...                                       ...     ...   \n",
       "2019-12-31 00:55:00                        88   999.0   \n",
       "2019-12-31 00:56:00                        88   999.0   \n",
       "2019-12-31 00:57:00                        88   999.0   \n",
       "2019-12-31 00:58:00                        88   999.0   \n",
       "2019-12-31 00:59:00                        88   999.0   \n",
       "\n",
       "                     Liquid Precipitation Depth  Liquid Precipitation Quantity  \n",
       "tiempo                                                                          \n",
       "2019-01-01 01:00:00                       999.0                           99.0  \n",
       "2019-01-01 01:01:00                       999.0                           99.0  \n",
       "2019-01-01 01:02:00                       999.0                           99.0  \n",
       "2019-01-01 01:03:00                       999.0                           99.0  \n",
       "2019-01-01 01:04:00                       999.0                           99.0  \n",
       "...                                         ...                            ...  \n",
       "2019-12-31 00:55:00                       999.0                           99.0  \n",
       "2019-12-31 00:56:00                       999.0                           99.0  \n",
       "2019-12-31 00:57:00                       999.0                           99.0  \n",
       "2019-12-31 00:58:00                       999.0                           99.0  \n",
       "2019-12-31 00:59:00                       999.0                           99.0  \n",
       "\n",
       "[525600 rows x 30 columns]"
      ]
     },
     "execution_count": 30,
     "metadata": {},
     "output_type": "execute_result"
    }
   ],
   "source": [
    "epw"
   ]
  },
  {
   "cell_type": "code",
   "execution_count": 32,
   "id": "b7dd002b",
   "metadata": {},
   "outputs": [],
   "source": [
    "def to_epw(file,df,epw_file):\n",
    "    \"\"\"\n",
    "    Save dataframe to EPW \n",
    "    \n",
    "    Arguments:\n",
    "    ----------\n",
    "    file -- path location of EPW file\n",
    "    \"\"\"\n",
    "  \n",
    "    \n",
    "  \n",
    "    names = ['Year',\n",
    "               'Month',\n",
    "               'Day',\n",
    "               'Hour',\n",
    "               'Minute',\n",
    "               'Data Source and Uncertainty Flags',\n",
    "               'Dry Bulb Temperature',\n",
    "               'Dew Point Temperature',\n",
    "               'Relative Humidity',\n",
    "               'Atmospheric Station Pressure',\n",
    "               'Extraterrestrial Horizontal Radiation',\n",
    "               'Extraterrestrial Direct Normal Radiation',\n",
    "               'Horizontal Infrared Radiation Intensity',\n",
    "               'Global Horizontal Radiation',\n",
    "               'Direct Normal Radiation',\n",
    "               'Diffuse Horizontal Radiation',\n",
    "               'Global Horizontal Illuminance',\n",
    "               'Direct Normal Illuminance',\n",
    "               'Diffuse Horizontal Illuminance',\n",
    "               'Zenith Luminance',\n",
    "               'Wind Direction',\n",
    "               'Wind Speed',\n",
    "               'Total Sky Cover',\n",
    "               'Opaque Sky Cover',\n",
    "               'Visibility',\n",
    "               'Ceiling Height',\n",
    "               'Present Weather Observation',\n",
    "               'Present Weather Codes','Precipitable Water','Aerosol Optical Depth','Snow Depth','Days Since Last Snowfall',\n",
    "               'Albedo','Liquid Precipitation Depth','Liquid Precipitation Quantity']\n",
    "    \n",
    "    \n",
    "    rename = {'To':'Dry Bulb Temperature'        ,\n",
    "              'RH':'Relative Humidity'           ,\n",
    "              'P' :'Atmospheric Station Pressure',\n",
    "              'Ig':'Global Horizontal Radiation' ,\n",
    "              'Ib':'Direct Normal Radiation'     ,\n",
    "              'Id':'Diffuse Horizontal Radiation',\n",
    "              'Wd':'Wind Direction'              ,\n",
    "              'Ws':'Wind Speed'                  }\n",
    "    \n",
    "    df2 = df.copy()\n",
    "    df2.rename(columns=rename,inplace=True)\n",
    "    df2['Year']    = df2.index.year\n",
    "    df2['Month']   = df2.index.month\n",
    "    df2['Day']     = df2.index.day\n",
    "    df2['Hour']    = df2.index.hour\n",
    "    df2['Minute']  = df2.index.minute\n",
    "    \n",
    "    df2.loc[df2.Hour==00.,['Hour']] = [24]\n",
    "    \n",
    "    \n",
    "    \n",
    "    \n",
    "    with open(epw_file) as myfile:\n",
    "        head = [next(myfile) for x in range(8)]\n",
    "    \n",
    "    epw_header = ''\n",
    "    for texto in head:\n",
    "        epw_header += texto\n",
    "        \n",
    "    df2[names].to_csv(file,header=None,index=False)\n",
    "    with open(file) as f:\n",
    "        epw = f.read()\n",
    "    \n",
    "    epw_tail = ''\n",
    "    for texto in epw:\n",
    "        epw_tail += texto\n",
    "    epw = epw_header + epw_tail\n",
    "    \n",
    "    \n",
    "    with open(file, 'w') as f:\n",
    "        f.write(epw)\n",
    "\n"
   ]
  },
  {
   "cell_type": "code",
   "execution_count": null,
   "id": "97b09b91",
   "metadata": {},
   "outputs": [],
   "source": []
  },
  {
   "cell_type": "code",
   "execution_count": null,
   "id": "0967c169",
   "metadata": {},
   "outputs": [],
   "source": []
  },
  {
   "cell_type": "code",
   "execution_count": null,
   "id": "39ff8273",
   "metadata": {},
   "outputs": [],
   "source": []
  },
  {
   "cell_type": "code",
   "execution_count": null,
   "id": "d8ae0038",
   "metadata": {},
   "outputs": [],
   "source": []
  },
  {
   "cell_type": "code",
   "execution_count": null,
   "id": "b72d4c9d",
   "metadata": {},
   "outputs": [],
   "source": []
  },
  {
   "cell_type": "code",
   "execution_count": 33,
   "id": "a0c48229",
   "metadata": {},
   "outputs": [],
   "source": [
    "to_epw('../data/LES.epw',epw,'../data/Tsa_Temixco_enero_este_0.3_eps.epw')"
   ]
  },
  {
   "cell_type": "code",
   "execution_count": null,
   "id": "26f4ca3c",
   "metadata": {},
   "outputs": [],
   "source": []
  }
 ],
 "metadata": {
  "kernelspec": {
   "display_name": "Python 3",
   "language": "python",
   "name": "python3"
  },
  "language_info": {
   "codemirror_mode": {
    "name": "ipython",
    "version": 3
   },
   "file_extension": ".py",
   "mimetype": "text/x-python",
   "name": "python",
   "nbconvert_exporter": "python",
   "pygments_lexer": "ipython3",
   "version": "3.9.5"
  }
 },
 "nbformat": 4,
 "nbformat_minor": 5
}
